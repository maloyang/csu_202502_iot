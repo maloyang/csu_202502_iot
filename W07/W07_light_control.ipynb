{
 "cells": [
  {
   "cell_type": "markdown",
   "metadata": {},
   "source": [
    "## W07 : MQTT\n",
    "- 控制設備\n",
    "----"
   ]
  },
  {
   "cell_type": "markdown",
   "metadata": {},
   "source": [
    "## push message to control"
   ]
  },
  {
   "cell_type": "code",
   "execution_count": 2,
   "metadata": {},
   "outputs": [
    {
     "name": "stdout",
     "output_type": "stream",
     "text": [
      "Connected flags{'session present': 0}, result code 0, client_id  <paho.mqtt.client.Client object at 0x000001981936ABB0>\n",
      "loop start\n",
      "--> push /csu2023/light 1\n",
      "--> push /csu2023/light 0\n",
      "--> push /csu2023/light 1\n",
      "--> push /csu2023/light 0\n",
      "--> push /csu2023/light 1\n",
      "--> push /csu2023/light 0\n"
     ]
    },
    {
     "data": {
      "text/plain": [
       "0"
      ]
     },
     "execution_count": 2,
     "metadata": {},
     "output_type": "execute_result"
    }
   ],
   "source": [
    "# push mqtt msg\n",
    "\n",
    "import paho.mqtt.client as mqtt\n",
    "import time, json, datetime, sys, os\n",
    "import random\n",
    "\n",
    "def on_connect(client, userdata, flags, rc):\n",
    "    m=\"Connected flags\"+str(flags)+\", result code \"+str(rc)+\", client_id  \"+str(client)\n",
    "    print(m)\n",
    "\n",
    "# some online free broker:\n",
    "#   iot.eclipse.org\n",
    "#   test.mosquitto.org\n",
    "#   broker.hivemq.com\n",
    "broker_address = \"broker.hivemq.com\"\n",
    "broker_port = 1883\n",
    "\n",
    "client1 = mqtt.Client()    #create new instance\n",
    "client1.on_connect = on_connect        #attach function to callback\n",
    "\n",
    "time.sleep(0.5)\n",
    "client1.connect(host=broker_address, port=broker_port, keepalive=60)      #connect to broker\n",
    "topic_str = '/csu2023/light'\n",
    "        \n",
    "client1.loop_start()    #start the loop\n",
    "time.sleep(0.5)\n",
    "print(\"loop start\")\n",
    "\n",
    "#-- start to push data\n",
    "for k in range(1, 7):\n",
    "    value = k%2\n",
    "    print('--> push', topic_str, value)\n",
    "    client1.publish(topic_str, value, qos=1)\n",
    "    time.sleep(5)\n",
    "\n",
    "time.sleep(0.1)\n",
    "\n",
    "client1.disconnect()\n"
   ]
  },
  {
   "cell_type": "code",
   "execution_count": null,
   "metadata": {},
   "outputs": [],
   "source": []
  }
 ],
 "metadata": {
  "kernelspec": {
   "display_name": "Python 3 (ipykernel)",
   "language": "python",
   "name": "python3"
  },
  "language_info": {
   "codemirror_mode": {
    "name": "ipython",
    "version": 3
   },
   "file_extension": ".py",
   "mimetype": "text/x-python",
   "name": "python",
   "nbconvert_exporter": "python",
   "pygments_lexer": "ipython3",
   "version": "3.9.12"
  }
 },
 "nbformat": 4,
 "nbformat_minor": 4
}
