{
  "cells": [
    {
      "cell_type": "markdown",
      "metadata": {
        "id": "D6XQx6xQ2bKz"
      },
      "source": [
        "# W03 : 公共腳踏車應用 (2) 客制化的icon"
      ]
    },
    {
      "cell_type": "markdown",
      "metadata": {
        "id": "YwyFIha82bK-"
      },
      "source": [
        "## 新竹市公共自行車租賃系統(YouBike): https://data.gov.tw/dataset/67781"
      ]
    },
    {
      "cell_type": "code",
      "execution_count": null,
      "metadata": {
        "id": "9wrP2-P42bLB"
      },
      "outputs": [],
      "source": [
        "import requests"
      ]
    },
    {
      "cell_type": "code",
      "execution_count": null,
      "metadata": {
        "id": "x6oaTZ7M2bLF"
      },
      "outputs": [],
      "source": [
        "url = 'https://raw.githubusercontent.com/maloyang/csu_202302_ML/main/W03/bike_01_%E6%96%B0%E7%AB%B9%E5%B8%82.csv'"
      ]
    },
    {
      "cell_type": "code",
      "execution_count": null,
      "metadata": {
        "id": "jIxK1eJW2bLH"
      },
      "outputs": [],
      "source": [
        "r = requests.get(url)"
      ]
    },
    {
      "cell_type": "code",
      "execution_count": null,
      "metadata": {
        "id": "IIqUfWsM2bLJ"
      },
      "outputs": [],
      "source": [
        "r"
      ]
    },
    {
      "cell_type": "markdown",
      "metadata": {
        "id": "QBKLNW8d2bLK"
      },
      "source": [
        "- 對取回來的資料進行編碼"
      ]
    },
    {
      "cell_type": "code",
      "execution_count": null,
      "metadata": {
        "id": "0O2-609R2bLL"
      },
      "outputs": [],
      "source": [
        "decoded_content = r.content.decode('utf-8')"
      ]
    },
    {
      "cell_type": "code",
      "execution_count": null,
      "metadata": {
        "id": "V050qIML2bLN"
      },
      "outputs": [],
      "source": [
        "print(decoded_content)"
      ]
    },
    {
      "cell_type": "markdown",
      "metadata": {
        "id": "37wnJLO_2bLO"
      },
      "source": [
        "- 用csv套件解析它"
      ]
    },
    {
      "cell_type": "code",
      "execution_count": null,
      "metadata": {
        "id": "nMWOT9Ug2bLP"
      },
      "outputs": [],
      "source": [
        "import csv"
      ]
    },
    {
      "cell_type": "code",
      "execution_count": null,
      "metadata": {
        "id": "M4stUluQ2bLQ"
      },
      "outputs": [],
      "source": [
        "cr = csv.reader(decoded_content.splitlines(), delimiter=',')\n",
        "data_list = list(cr)"
      ]
    },
    {
      "cell_type": "markdown",
      "metadata": {
        "id": "0v5zVFs02bLR"
      },
      "source": [
        "- 了解 list 的操作"
      ]
    },
    {
      "cell_type": "code",
      "execution_count": null,
      "metadata": {
        "id": "-xK8HY8X2bLR"
      },
      "outputs": [],
      "source": [
        "data_list[0]"
      ]
    },
    {
      "cell_type": "code",
      "execution_count": null,
      "metadata": {
        "id": "W7iVdn7b2bLS"
      },
      "outputs": [],
      "source": [
        "data_list[1]"
      ]
    },
    {
      "cell_type": "code",
      "execution_count": null,
      "metadata": {
        "id": "5zKEQSXd2bLT"
      },
      "outputs": [],
      "source": [
        "data_list[1:3]"
      ]
    },
    {
      "cell_type": "markdown",
      "metadata": {
        "id": "4CODepZJ2bLT"
      },
      "source": [
        "- 使用folium地圖套件進行資料視覺化應用\n",
        "- 使用geopy取得GPS資料\n",
        "\n",
        "- 安裝方式:\n",
        "```bash\n",
        "pip install folium\n",
        "pip install geopy\n",
        "```"
      ]
    },
    {
      "cell_type": "code",
      "execution_count": null,
      "metadata": {
        "id": "IvKCXJtc2bLU"
      },
      "outputs": [],
      "source": [
        "# 在colab用底下的安裝指令\n",
        "!pip install geopy"
      ]
    },
    {
      "cell_type": "code",
      "execution_count": null,
      "metadata": {
        "id": "ayNJ-uL_2bLV"
      },
      "outputs": [],
      "source": [
        "#引入相關套件，並建立取得GPS座標的function\n",
        "import folium\n",
        "import geopy\n",
        "from geopy.geocoders import Nominatim\n",
        "\n",
        "def get_gps_coordinates(location_name):\n",
        "    \"\"\"\n",
        "    取得指定地名的 GPS 座標。\n",
        "\n",
        "    Args:\n",
        "        location_name (str): 地名。\n",
        "\n",
        "    Returns:\n",
        "        tuple: (緯度, 經度)，如果找不到則返回 None。\n",
        "    \"\"\"\n",
        "    try:\n",
        "        geolocator = Nominatim(user_agent=\"my_geocoder\")\n",
        "        location = geolocator.geocode(location_name)\n",
        "        if location:\n",
        "            return location.latitude, location.longitude\n",
        "        else:\n",
        "            return None\n",
        "    except Exception as e:\n",
        "        print(f\"發生錯誤：{e}\")\n",
        "        return None\n"
      ]
    },
    {
      "cell_type": "code",
      "execution_count": null,
      "metadata": {
        "id": "bhKU3yw_2bLV"
      },
      "outputs": [],
      "source": [
        "location = get_gps_coordinates('新竹市')\n",
        "print(location)"
      ]
    },
    {
      "cell_type": "code",
      "execution_count": null,
      "metadata": {
        "id": "3pL_xgmi2bLW"
      },
      "outputs": [],
      "source": [
        "m = folium.Map(location=location, zoom_start=15)"
      ]
    },
    {
      "cell_type": "code",
      "execution_count": null,
      "metadata": {
        "id": "rk15RHXX2bLW"
      },
      "outputs": [],
      "source": [
        "for item in data_list[1:]:\n",
        "    try:\n",
        "        # item[2]=緯度, item[1]=經度, item[0]=名稱\n",
        "\n",
        "        folium.Marker([float(item[2]), float(item[1])], popup=item[0],\n",
        "                     icon=folium.Icon(color='green', prefix='fa', icon='fa-bicycle')).add_to(m)\n",
        "\n",
        "    except Exception as e:\n",
        "        print(e.args)"
      ]
    },
    {
      "cell_type": "code",
      "execution_count": null,
      "metadata": {
        "id": "ILNadNc72bLY"
      },
      "outputs": [],
      "source": [
        "m"
      ]
    },
    {
      "cell_type": "markdown",
      "metadata": {
        "id": "kRks4HOc2bLY"
      },
      "source": [
        "- 下載你的成果"
      ]
    },
    {
      "cell_type": "code",
      "execution_count": null,
      "metadata": {
        "id": "nfW4KS652bLZ"
      },
      "outputs": [],
      "source": [
        "m.save('my_map.html')"
      ]
    },
    {
      "cell_type": "code",
      "execution_count": null,
      "metadata": {
        "id": "SbneFoCz2bLZ"
      },
      "outputs": [],
      "source": [
        "\n",
        "from google.colab import files\n",
        "files.download('my_map.html')\n"
      ]
    },
    {
      "cell_type": "markdown",
      "metadata": {
        "id": "4XFXSSMK2bLb"
      },
      "source": [
        "- 練習題：改成你所想要的icon\n",
        "    - 參考目前的icon來源: https://fontawesome.com/v4.7/icon/bicycle\n",
        "    "
      ]
    },
    {
      "cell_type": "code",
      "execution_count": null,
      "metadata": {
        "id": "k3GjqOr52bLb"
      },
      "outputs": [],
      "source": [
        "# 請在這邊填入你的程式\n",
        "\n"
      ]
    },
    {
      "cell_type": "code",
      "source": [],
      "metadata": {
        "id": "VtQ79DJF3Xli"
      },
      "execution_count": null,
      "outputs": []
    }
  ],
  "metadata": {
    "kernelspec": {
      "display_name": "Python 3 (ipykernel)",
      "language": "python",
      "name": "python3"
    },
    "language_info": {
      "codemirror_mode": {
        "name": "ipython",
        "version": 3
      },
      "file_extension": ".py",
      "mimetype": "text/x-python",
      "name": "python",
      "nbconvert_exporter": "python",
      "pygments_lexer": "ipython3",
      "version": "3.9.12"
    },
    "colab": {
      "provenance": []
    }
  },
  "nbformat": 4,
  "nbformat_minor": 0
}