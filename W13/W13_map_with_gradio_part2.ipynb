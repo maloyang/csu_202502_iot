{
  "cells": [
    {
      "cell_type": "markdown",
      "source": [
        "- 進一步使用Gradio + colab打造地圖網頁\n"
      ],
      "metadata": {
        "id": "lgWQxHc5qwH0"
      }
    },
    {
      "cell_type": "code",
      "source": [
        "!pip install gradio"
      ],
      "metadata": {
        "id": "zGF-MkQ_TFI1"
      },
      "execution_count": null,
      "outputs": []
    },
    {
      "cell_type": "markdown",
      "source": [
        "- 資料來源:\n",
        "- https://data.gov.tw/dataset/40448"
      ],
      "metadata": {
        "id": "LZfUZM9Bq4iW"
      }
    },
    {
      "cell_type": "code",
      "source": [
        "import requests\n",
        "import folium\n",
        "import gradio as gr\n",
        "import pandas as pd\n",
        "from io import StringIO\n",
        "\n",
        "def visualize_pm25_v4():\n",
        "    \"\"\"\n",
        "    抓取新的 PM2.5 資料並使用 Folium 視覺化 (使用測站經緯度)，再次修正 PM2.5 欄位名稱。\n",
        "    \"\"\"\n",
        "    url = \"https://data.moenv.gov.tw/api/v2/aqx_p_432?api_key=9e565f9a-84dd-4e79-9097-d403cae1ea75&limit=100&sort=ImportDate%20desc&format=JSON\"\n",
        "    try:\n",
        "        response = requests.get(url)\n",
        "        response.raise_for_status()\n",
        "        data = response.json()['records']\n",
        "        df = pd.DataFrame(data)\n",
        "\n",
        "        # 假設您的資料包含 'sitename', 'longitude', 'latitude' 和 'pm2.5' 欄位\n",
        "        if 'sitename' not in df.columns or 'longitude' not in df.columns or 'latitude' not in df.columns or 'pm2.5' not in df.columns:\n",
        "            return \"資料中缺少必要的測站名稱、經緯度或 pm2.5 欄位。\"\n",
        "\n",
        "        # 將經緯度和 pm2.5 轉換為數值\n",
        "        df['latitude'] = pd.to_numeric(df['latitude'], errors='coerce')\n",
        "        df['longitude'] = pd.to_numeric(df['longitude'], errors='coerce')\n",
        "        df['pm2.5'] = pd.to_numeric(df['pm2.5'], errors='coerce')\n",
        "\n",
        "        # 移除經緯度或 pm2.5 為 NaN 的列\n",
        "        df_cleaned = df.dropna(subset=['latitude', 'longitude', 'pm2.5'])\n",
        "\n",
        "        if df_cleaned.empty:\n",
        "            return \"沒有有效的 pm2.5 資料點可以顯示。\"\n",
        "\n",
        "        # 計算地圖的中心點\n",
        "        center_lat = df_cleaned['latitude'].mean()\n",
        "        center_lon = df_cleaned['longitude'].mean()\n",
        "\n",
        "        # 創建 Folium 地圖\n",
        "        m = folium.Map(location=[center_lat, center_lon], zoom_start=10)\n",
        "\n",
        "        # 根據 pm2.5 值添加標記\n",
        "        for index, row in df_cleaned.iterrows():\n",
        "            station_name = row['sitename']\n",
        "            latitude = row['latitude']\n",
        "            longitude = row['longitude']\n",
        "            pm25_value = row['pm2.5']\n",
        "\n",
        "            color = 'green'\n",
        "            if pm25_value > 35:\n",
        "                color = 'orange'\n",
        "            if pm25_value > 75:\n",
        "                color = 'red'\n",
        "\n",
        "            folium.CircleMarker(\n",
        "                location=[latitude, longitude],\n",
        "                radius=8,\n",
        "                color=color,\n",
        "                fill=True,\n",
        "                fill_color=color,\n",
        "                fill_opacity=0.7,\n",
        "                tooltip=f\"{station_name}: PM2.5 = {pm25_value}\"\n",
        "            ).add_to(m)\n",
        "\n",
        "        # *** 重要：將 Folium 地圖物件轉換為 HTML 字串 ***\n",
        "        map_html = m._repr_html_()\n",
        "        return map_html\n",
        "    except Exception as e:\n",
        "        return f\"發生未預期的錯誤：{e}\"\n",
        "\n",
        "iface_v4 = gr.Interface(\n",
        "    fn=visualize_pm25_v4,\n",
        "    inputs=None,\n",
        "    outputs=gr.HTML(label=\"PM2.5 測站分佈地圖\"),\n",
        "    title=\"PM2.5 測站資料視覺化\",\n",
        "    description=\"從環境部開放資料平台抓取最新的 PM2.5 測站資料，並在地圖上顯示。\",\n",
        ")\n",
        "\n",
        "iface_v4.launch()"
      ],
      "metadata": {
        "colab": {
          "base_uri": "https://localhost:8080/",
          "height": 650
        },
        "id": "L6Mfjcv9S_rv",
        "outputId": "96deb5a0-626a-4dc6-b5d5-35c4e1995503"
      },
      "execution_count": 4,
      "outputs": [
        {
          "output_type": "stream",
          "name": "stdout",
          "text": [
            "It looks like you are running Gradio on a hosted a Jupyter notebook. For the Gradio app to work, sharing must be enabled. Automatically setting `share=True` (you can turn this off by setting `share=False` in `launch()` explicitly).\n",
            "\n",
            "Colab notebook detected. To show errors in colab notebook, set debug=True in launch()\n",
            "* Running on public URL: https://82ab38bd3f014ada41.gradio.live\n",
            "\n",
            "This share link expires in 1 week. For free permanent hosting and GPU upgrades, run `gradio deploy` from the terminal in the working directory to deploy to Hugging Face Spaces (https://huggingface.co/spaces)\n"
          ]
        },
        {
          "output_type": "display_data",
          "data": {
            "text/plain": [
              "<IPython.core.display.HTML object>"
            ],
            "text/html": [
              "<div><iframe src=\"https://82ab38bd3f014ada41.gradio.live\" width=\"100%\" height=\"500\" allow=\"autoplay; camera; microphone; clipboard-read; clipboard-write;\" frameborder=\"0\" allowfullscreen></iframe></div>"
            ]
          },
          "metadata": {}
        },
        {
          "output_type": "execute_result",
          "data": {
            "text/plain": []
          },
          "metadata": {},
          "execution_count": 4
        }
      ]
    },
    {
      "cell_type": "code",
      "source": [
        "# 把資料改成顯示pm2.5以外的項目，且至少兩項顯示在地圖上"
      ],
      "metadata": {
        "id": "wX2-14VcTBgQ"
      },
      "execution_count": null,
      "outputs": []
    },
    {
      "cell_type": "code",
      "source": [
        "# 把新北市腳踏車地圖改用gradio呈現地圖"
      ],
      "metadata": {
        "id": "-zBNED2khaNN"
      },
      "execution_count": null,
      "outputs": []
    }
  ],
  "metadata": {
    "kernelspec": {
      "display_name": "Python 3 (ipykernel)",
      "language": "python",
      "name": "python3"
    },
    "language_info": {
      "codemirror_mode": {
        "name": "ipython",
        "version": 3
      },
      "file_extension": ".py",
      "mimetype": "text/x-python",
      "name": "python",
      "nbconvert_exporter": "python",
      "pygments_lexer": "ipython3",
      "version": "3.9.12"
    },
    "colab": {
      "provenance": []
    }
  },
  "nbformat": 4,
  "nbformat_minor": 0
}