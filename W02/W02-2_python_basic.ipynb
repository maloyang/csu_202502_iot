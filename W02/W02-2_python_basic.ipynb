{
  "cells": [
    {
      "cell_type": "markdown",
      "metadata": {
        "id": "kF2Iy-1asQRY"
      },
      "source": [
        "# 基本語法練習"
      ]
    },
    {
      "cell_type": "markdown",
      "metadata": {
        "id": "9c5IjMy9sQRi"
      },
      "source": [
        "- 註解符號: #"
      ]
    },
    {
      "cell_type": "code",
      "execution_count": null,
      "metadata": {
        "id": "4zbXuUQOsQRj"
      },
      "outputs": [],
      "source": [
        "# 這一行是註解\n",
        "# print('hi~ A')\n",
        "print('hi~ B')"
      ]
    },
    {
      "cell_type": "markdown",
      "metadata": {
        "id": "FhbfpZuSsQRj"
      },
      "source": [
        "### 運算符號\n",
        "[參考](https://python.swaroopch.com/op_exp.html)"
      ]
    },
    {
      "cell_type": "code",
      "execution_count": null,
      "metadata": {
        "id": "Pyts_7-wsQRk"
      },
      "outputs": [],
      "source": [
        "# 加法\n",
        "3+12"
      ]
    },
    {
      "cell_type": "code",
      "execution_count": null,
      "metadata": {
        "id": "WZ6B-LKJsQRm"
      },
      "outputs": [],
      "source": [
        "# 減法\n",
        "54321 - 12345"
      ]
    },
    {
      "cell_type": "code",
      "execution_count": null,
      "metadata": {
        "id": "XLzf-LsYsQRn"
      },
      "outputs": [],
      "source": [
        "# 乘法\n",
        "123*321"
      ]
    },
    {
      "cell_type": "code",
      "execution_count": null,
      "metadata": {
        "id": "9VnceCxSsQRn"
      },
      "outputs": [],
      "source": [
        "# 除法\n",
        "345/5"
      ]
    },
    {
      "cell_type": "code",
      "execution_count": null,
      "metadata": {
        "id": "m5vv6BArsQRo"
      },
      "outputs": [],
      "source": [
        "# power\n",
        "3**2"
      ]
    },
    {
      "cell_type": "code",
      "execution_count": null,
      "metadata": {
        "id": "37fUYu4bsQRo"
      },
      "outputs": [],
      "source": [
        "2**10"
      ]
    },
    {
      "cell_type": "code",
      "execution_count": null,
      "metadata": {
        "id": "OAAmt7iKsQRp"
      },
      "outputs": [],
      "source": [
        "# 整數除法\n",
        "123//5"
      ]
    },
    {
      "cell_type": "code",
      "execution_count": null,
      "metadata": {
        "id": "RQKWbwEwsQRp"
      },
      "outputs": [],
      "source": [
        "123/5"
      ]
    },
    {
      "cell_type": "code",
      "execution_count": null,
      "metadata": {
        "id": "IkLboliwsQRp"
      },
      "outputs": [],
      "source": [
        "# 取餘數\n",
        "123%5"
      ]
    },
    {
      "cell_type": "markdown",
      "metadata": {
        "id": "tRZ-pS6PsQRq"
      },
      "source": [
        "### 變數"
      ]
    },
    {
      "cell_type": "markdown",
      "metadata": {
        "id": "2FvOwK_UsQRq"
      },
      "source": [
        "[參考](https://python.swaroopch.com/basics.html)"
      ]
    },
    {
      "cell_type": "markdown",
      "metadata": {
        "id": "CTYDiyLfsQRq"
      },
      "source": [
        "- 數字: integers and floats"
      ]
    },
    {
      "cell_type": "code",
      "execution_count": null,
      "metadata": {
        "id": "xnrwkPEGsQRr"
      },
      "outputs": [],
      "source": [
        "num_int = 2*3"
      ]
    },
    {
      "cell_type": "code",
      "execution_count": null,
      "metadata": {
        "id": "fEFeK9GQsQRr"
      },
      "outputs": [],
      "source": [
        "print(num_int)"
      ]
    },
    {
      "cell_type": "code",
      "execution_count": null,
      "metadata": {
        "id": "FgDaLs6msQRr"
      },
      "outputs": [],
      "source": [
        "# python不用像 C語言那樣，有限定 int4, int8, int16, int32, int64...等有限的表示長度\n",
        "num_int = 123456789*987654321"
      ]
    },
    {
      "cell_type": "code",
      "execution_count": null,
      "metadata": {
        "id": "RF2KepfosQRr"
      },
      "outputs": [],
      "source": [
        "print(num_int)"
      ]
    },
    {
      "cell_type": "code",
      "execution_count": null,
      "metadata": {
        "id": "pflqrk8lsQRr"
      },
      "outputs": [],
      "source": [
        "num_float = 1.23*4.56"
      ]
    },
    {
      "cell_type": "code",
      "execution_count": null,
      "metadata": {
        "id": "rY77DEgesQRs"
      },
      "outputs": [],
      "source": [
        "print(num_float)"
      ]
    },
    {
      "cell_type": "markdown",
      "metadata": {
        "id": "R133TJclsQRs"
      },
      "source": [
        "### 變數進階"
      ]
    },
    {
      "cell_type": "code",
      "execution_count": null,
      "metadata": {
        "id": "Cue2lNoksQRs"
      },
      "outputs": [],
      "source": [
        "num_float = num_float * num_int\n",
        "print(num_float)"
      ]
    },
    {
      "cell_type": "code",
      "execution_count": null,
      "metadata": {
        "id": "2SVsRXJzsQRs"
      },
      "outputs": [],
      "source": [
        "num_int = 10\n",
        "num_int = num_int + 20\n",
        "print(num_int)"
      ]
    },
    {
      "cell_type": "code",
      "execution_count": null,
      "metadata": {
        "id": "AoK73Zg2sQRt"
      },
      "outputs": [],
      "source": [
        "num_int += 50\n",
        "print(num_int)"
      ]
    },
    {
      "cell_type": "markdown",
      "metadata": {
        "id": "Wyt3XkOusQRt"
      },
      "source": [
        "### 字串\n",
        "- 使用單引號、雙引號皆可"
      ]
    },
    {
      "cell_type": "code",
      "execution_count": null,
      "metadata": {
        "id": "Pp1zRi6DsQRt"
      },
      "outputs": [],
      "source": [
        "str1 = 'hello, i am jack'\n",
        "print(str1)"
      ]
    },
    {
      "cell_type": "code",
      "execution_count": null,
      "metadata": {
        "id": "MhG7SW5dsQRt"
      },
      "outputs": [],
      "source": [
        "str2 = 'hello world'\n",
        "str1 + str2"
      ]
    },
    {
      "cell_type": "code",
      "execution_count": null,
      "metadata": {
        "id": "8xf5VYtksQRt"
      },
      "outputs": [],
      "source": [
        "str3 = 'number int is %s; number float is %s' %(num_int, num_float)\n",
        "print(str3)"
      ]
    },
    {
      "cell_type": "code",
      "execution_count": null,
      "metadata": {
        "id": "8s_wRZ_isQRu"
      },
      "outputs": [],
      "source": [
        "# 進一步對數字格式化\n",
        "str3 = 'number int is %05d; number float is %.3f' %(num_int, num_float)\n",
        "print(str3)"
      ]
    },
    {
      "cell_type": "code",
      "source": [
        "# Python3支援的格式化寫法\n",
        "num1 = 15\n",
        "num2 = 1.234\n",
        "str4 = f\"num1 = {num1}, num2 = {num2}\"\n",
        "print(str4)"
      ],
      "metadata": {
        "id": "0JhzQaGss49j"
      },
      "execution_count": null,
      "outputs": []
    },
    {
      "cell_type": "markdown",
      "source": [
        "## 判斷式"
      ],
      "metadata": {
        "id": "dYnEbJ-2tC8J"
      }
    },
    {
      "cell_type": "code",
      "source": [
        "n = 6\n",
        "m = 10\n",
        "if n>m:\n",
        "    print('great')\n",
        "else:\n",
        "    print('less')"
      ],
      "metadata": {
        "id": "cJiGT-CatGue"
      },
      "execution_count": null,
      "outputs": []
    },
    {
      "cell_type": "markdown",
      "source": [
        "- 有問題的程式，請修正程式，讓程式可以正常判斷成績"
      ],
      "metadata": {
        "id": "G3dz0zigtN4S"
      }
    },
    {
      "cell_type": "code",
      "source": [
        "n=10\n",
        "if n<60:\n",
        "    print('你不及格')\n",
        "elif n>60:\n",
        "    print('低空飛過，再加油')\n",
        "elif n>70:\n",
        "    print('很不錯喔')\n",
        "else:\n",
        "    print('你太厲害了!')"
      ],
      "metadata": {
        "id": "F1mQ-diEtJ7w"
      },
      "execution_count": null,
      "outputs": []
    },
    {
      "cell_type": "markdown",
      "metadata": {
        "id": "GRWAOYDfsQRu"
      },
      "source": [
        "### 迴圈"
      ]
    },
    {
      "cell_type": "markdown",
      "metadata": {
        "id": "j4XPkYqSsQRv"
      },
      "source": [
        "- for"
      ]
    },
    {
      "cell_type": "code",
      "execution_count": null,
      "metadata": {
        "id": "oCFf_VaqsQRv"
      },
      "outputs": [],
      "source": [
        "for i in range(1, 5):\n",
        "    print(i, '*', i, '=', i*i)"
      ]
    },
    {
      "cell_type": "markdown",
      "metadata": {
        "id": "ilgfvsRGsQRv"
      },
      "source": [
        "- while"
      ]
    },
    {
      "cell_type": "code",
      "execution_count": null,
      "metadata": {
        "id": "ug7YO3x5sQRv"
      },
      "outputs": [],
      "source": [
        "MAX_N = 5\n",
        "n = 1\n",
        "while(n<MAX_N):\n",
        "    print('%d^%d = %d' %(n, n, n**n))\n",
        "    n+=1"
      ]
    },
    {
      "cell_type": "markdown",
      "source": [
        "- 跑一半需要跳出來: break"
      ],
      "metadata": {
        "id": "nLRR0F9qthNu"
      }
    },
    {
      "cell_type": "code",
      "source": [
        "for i in range(1, 10):\n",
        "    if i>=6:\n",
        "        break\n",
        "    print(i, '*', i, '=', i*i)\n"
      ],
      "metadata": {
        "id": "q5IgC2l6thrv"
      },
      "execution_count": null,
      "outputs": []
    },
    {
      "cell_type": "markdown",
      "source": [
        "- 某些項目不處理，但還需要處理後續: continue"
      ],
      "metadata": {
        "id": "XMtRfDCKtkF6"
      }
    },
    {
      "cell_type": "code",
      "source": [
        "for i in range(1, 10):\n",
        "    if i==6:\n",
        "        continue\n",
        "    print(i, '*', i, '=', i*i)\n"
      ],
      "metadata": {
        "id": "mj3bQajVtmaQ"
      },
      "execution_count": null,
      "outputs": []
    },
    {
      "cell_type": "markdown",
      "source": [
        "### List"
      ],
      "metadata": {
        "id": "wa8M_0VMtuxJ"
      }
    },
    {
      "cell_type": "code",
      "source": [
        "my_list = [1, 24, 32, 6, 30, 57]"
      ],
      "metadata": {
        "id": "BH8r9EzatvO7"
      },
      "execution_count": null,
      "outputs": []
    },
    {
      "cell_type": "code",
      "source": [
        "# 找出超過30的數字\n",
        "for item in my_list:\n",
        "    if item > 30:\n",
        "        print(item)"
      ],
      "metadata": {
        "id": "NPs1dizot0bp"
      },
      "execution_count": null,
      "outputs": []
    },
    {
      "cell_type": "code",
      "source": [
        "# 同上，但列出是第幾個\n",
        "for i in range(len(my_list)):\n",
        "    if my_list[i] > 30:\n",
        "        print(i, '->', my_list[i])"
      ],
      "metadata": {
        "id": "QZTegMyKuBbF"
      },
      "execution_count": null,
      "outputs": []
    },
    {
      "cell_type": "code",
      "source": [
        "# 另一個寫法\n",
        "for i, item in enumerate(my_list):\n",
        "    if item > 30:\n",
        "        print(i, '->', item)"
      ],
      "metadata": {
        "id": "C-nuvzQ7uErC"
      },
      "execution_count": null,
      "outputs": []
    },
    {
      "cell_type": "markdown",
      "source": [
        "### Dictionary"
      ],
      "metadata": {
        "id": "VftlEnPAuG65"
      }
    },
    {
      "cell_type": "code",
      "source": [
        "my_dict = {'Apple':3, 'Pear':5, 'Orange':2}"
      ],
      "metadata": {
        "id": "f6mOZIYTuHIy"
      },
      "execution_count": null,
      "outputs": []
    },
    {
      "cell_type": "code",
      "source": [
        "for key in my_dict:\n",
        "    print('%s : %s' %(key, my_dict[key]))"
      ],
      "metadata": {
        "id": "yMfk1XcCuJwL"
      },
      "execution_count": null,
      "outputs": []
    },
    {
      "cell_type": "code",
      "source": [
        "my_dict['Strawberry'] = 10\n",
        "my_dict['Apple'] += 2"
      ],
      "metadata": {
        "id": "-yHAOojSuLTl"
      },
      "execution_count": null,
      "outputs": []
    },
    {
      "cell_type": "markdown",
      "source": [
        "### 終極密碼\n",
        "\n",
        "- 提示:\n",
        "    - 會使用到的API: randint, input\n",
        "    - input輸入的資料須要轉換"
      ],
      "metadata": {
        "id": "f1rau675uVfm"
      }
    },
    {
      "cell_type": "code",
      "source": [
        "import random\n",
        "\n",
        "number = random.randint(1, 5)\n",
        "print(number)"
      ],
      "metadata": {
        "id": "dLo2W_q5uNUL"
      },
      "execution_count": null,
      "outputs": []
    },
    {
      "cell_type": "code",
      "source": [
        "my_num = input('請輸入 1~100的數字')\n",
        "print( type(my_num) )\n",
        "my_num = int(my_num)\n",
        "print( type(my_num), '->', my_num)"
      ],
      "metadata": {
        "id": "XQev5zV1ubWT"
      },
      "execution_count": null,
      "outputs": []
    },
    {
      "cell_type": "markdown",
      "source": [
        "- 第一版: 使用者輸入一個數字密碼，程式要在沒猜中時，能提示使用者要猜大一點或是小一點"
      ],
      "metadata": {
        "id": "MAl2X48pugo7"
      }
    },
    {
      "cell_type": "code",
      "source": [
        "# 請在這邊完成你的程式\n",
        "\n"
      ],
      "metadata": {
        "id": "0wK_hKKsuhRq"
      },
      "execution_count": null,
      "outputs": []
    },
    {
      "cell_type": "markdown",
      "source": [
        "- 第二版: 變數的練習，在前面的基礎下，把每一次猜的值記下來，更新到程式中的上、下限值，並在下一次提示目前可以猜的範圍"
      ],
      "metadata": {
        "id": "gUTxZ8gzulN3"
      }
    },
    {
      "cell_type": "code",
      "source": [
        "# 請在這邊完成你的程式\n",
        "\n"
      ],
      "metadata": {
        "id": "_jp7BB7kunN0"
      },
      "execution_count": null,
      "outputs": []
    }
  ],
  "metadata": {
    "kernelspec": {
      "display_name": "Python 3 (ipykernel)",
      "language": "python",
      "name": "python3"
    },
    "language_info": {
      "codemirror_mode": {
        "name": "ipython",
        "version": 3
      },
      "file_extension": ".py",
      "mimetype": "text/x-python",
      "name": "python",
      "nbconvert_exporter": "python",
      "pygments_lexer": "ipython3",
      "version": "3.9.12"
    },
    "colab": {
      "provenance": []
    }
  },
  "nbformat": 4,
  "nbformat_minor": 0
}