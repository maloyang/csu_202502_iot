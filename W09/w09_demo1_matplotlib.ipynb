{
 "cells": [
  {
   "cell_type": "markdown",
   "id": "b9befa36-02e2-4b7c-ad27-1bc80632e6ab",
   "metadata": {},
   "source": [
    "# MatPlotLib demo\n",
    "\n",
    "Matplotlib is a comprehensive library for creating static, animated, and interactive visualizations in Python\n",
    "\n",
    "- ref: https://matplotlib.org/\n",
    "- ref: http://www.aosabook.org/en/matplotlib.html\n",
    "    - https://matplotlib.org/stable/users/getting_started/"
   ]
  },
  {
   "cell_type": "markdown",
   "id": "21a46f06-4a52-4d8d-8d7d-2f594b5e6ce6",
   "metadata": {},
   "source": [
    "## 我們假設你是使用 Anaconda，所以已經內建matplotlib\n",
    "- 如果沒有的話，可以使用指令安裝 `pip install matplotlib`\n",
    "----"
   ]
  },
  {
   "cell_type": "markdown",
   "id": "95e2dcaa-1a0d-4e7a-b521-56110bde19c7",
   "metadata": {},
   "source": [
    "### 第一個demo"
   ]
  },
  {
   "cell_type": "code",
   "execution_count": null,
   "id": "31a79b3d-d06a-4bbb-974b-e24d218f171f",
   "metadata": {},
   "outputs": [],
   "source": [
    "%matplotlib inline\n",
    "\n",
    "import matplotlib.pyplot as plt\n",
    "import numpy as np\n",
    "\n",
    "data = [1, 2, 3, 4, 3, 2, 1]\n",
    "plt.plot(data)\n",
    "plt.show()"
   ]
  },
  {
   "cell_type": "markdown",
   "id": "cdd46215-44a1-4dbd-af5e-8b56f1f1042d",
   "metadata": {},
   "source": [
    "### Style"
   ]
  },
  {
   "cell_type": "code",
   "execution_count": null,
   "id": "666d33b5-a7a0-4695-8402-a19ca0e0675b",
   "metadata": {},
   "outputs": [],
   "source": [
    "import matplotlib as mpl\n",
    "import matplotlib.pyplot as plt\n",
    "import numpy as np"
   ]
  },
  {
   "cell_type": "markdown",
   "id": "73f41e4b-71a0-4f52-ac23-01e6be1c660e",
   "metadata": {},
   "source": [
    "- OO-style"
   ]
  },
  {
   "cell_type": "code",
   "execution_count": null,
   "id": "90695b69-9372-4197-92f5-1c3db4df92c5",
   "metadata": {},
   "outputs": [],
   "source": [
    "fig, ax = plt.subplots()  # Create a figure containing a single axes.\n",
    "x = [1, 2, 3, 4]\n",
    "y = [1, 4, 2, 3]\n",
    "ax.plot(x, y);  # Plot some data on the axes."
   ]
  },
  {
   "cell_type": "markdown",
   "id": "88964e5a-b58d-4857-92f0-91e946bee896",
   "metadata": {},
   "source": [
    "- pyplot-style"
   ]
  },
  {
   "cell_type": "code",
   "execution_count": null,
   "id": "d9629cf2-88a2-4e3f-abb2-9e4bf73e01b0",
   "metadata": {},
   "outputs": [],
   "source": [
    "x = [1, 2, 3, 4]\n",
    "y = [1, 4, 2, 3]\n",
    "plt.plot(x, y)"
   ]
  },
  {
   "cell_type": "markdown",
   "id": "a220eac3-b179-4636-aae9-2c80196946c5",
   "metadata": {},
   "source": [
    "- figure的各部分說明\n",
    "\n",
    "![img](img/anatomy.png)"
   ]
  },
  {
   "cell_type": "markdown",
   "id": "0d7e4828-6431-4fa6-97a4-0914ab6bf0f4",
   "metadata": {},
   "source": [
    "### 一維"
   ]
  },
  {
   "cell_type": "code",
   "execution_count": null,
   "id": "d4cd707c-d5e3-420e-b7bd-926b1cabbcec",
   "metadata": {},
   "outputs": [],
   "source": [
    "x = np.arange(10)\n",
    "plt.plot(x)"
   ]
  },
  {
   "cell_type": "markdown",
   "id": "faf65eb1-c893-4117-b173-8a8d0993331f",
   "metadata": {},
   "source": [
    "如果是寫成獨立的程式 (.py 檔)，則需用下面程式來顯示圖形。\n",
    "\n",
    "```\n",
    "plt.show()\n",
    "```"
   ]
  },
  {
   "cell_type": "markdown",
   "id": "c063b913-57f9-495e-bc16-250b2837a86d",
   "metadata": {},
   "source": [
    "### 二維"
   ]
  },
  {
   "cell_type": "code",
   "execution_count": null,
   "id": "2e5a6d52-d024-411a-88e4-36de104741f9",
   "metadata": {},
   "outputs": [],
   "source": [
    "x = np.random.rand(10, 2)\n",
    "plt.plot(x)"
   ]
  },
  {
   "cell_type": "code",
   "execution_count": null,
   "id": "80160006-c9b7-47e9-87d3-b2652595d23c",
   "metadata": {},
   "outputs": [],
   "source": [
    "x"
   ]
  },
  {
   "cell_type": "code",
   "execution_count": null,
   "id": "3f7e0061-bfaf-4dcc-ada4-16d2095b462c",
   "metadata": {},
   "outputs": [],
   "source": [
    "# 不是用numpy元件\n",
    "\n",
    "x1 = [1, 3, 2, 5, 4]\n",
    "x2 = [8, 7, 6, 5, 5]\n",
    "plt.plot(x1)\n",
    "plt.plot(x2)"
   ]
  },
  {
   "cell_type": "markdown",
   "id": "3dad2da9-34de-498b-b92d-cd8ed98207c7",
   "metadata": {},
   "source": [
    "## 子圖 (Subplot)\n",
    "\n",
    "參考資料：[Subplot Demo](http://matplotlib.org/examples/pylab_examples/subplots_demo.html)\n",
    "\n",
    "- subplot(211) : 表示大圖含有2行1列共2個子圖，正在繪製的是第一個"
   ]
  },
  {
   "cell_type": "code",
   "execution_count": null,
   "id": "e4157508-d9ba-47e9-8322-117a28407d08",
   "metadata": {},
   "outputs": [],
   "source": [
    "plt.subplot(211)\n",
    "x = np.arange(10)\n",
    "plt.plot(x)\n",
    "plt.subplot(212)\n",
    "y = np.random.rand(10)\n",
    "plt.plot(y)"
   ]
  },
  {
   "cell_type": "code",
   "execution_count": null,
   "id": "3e5d6725-2f0b-4b7d-8844-a80eb8c9d88d",
   "metadata": {},
   "outputs": [],
   "source": [
    "plt.subplot(121)\n",
    "x = np.arange(10)\n",
    "plt.plot(x)\n",
    "plt.subplot(122)\n",
    "y = np.random.rand(10)\n",
    "plt.plot(y)"
   ]
  },
  {
   "cell_type": "code",
   "execution_count": null,
   "id": "b5932f97-a3b0-4629-91f7-b6d8f30884f5",
   "metadata": {},
   "outputs": [],
   "source": [
    "plt.subplot(221)\n",
    "x1 = np.random.rand(10)\n",
    "plt.plot(x1, 'ro')\n",
    "plt.subplot(222)\n",
    "x2 = np.random.rand(10)\n",
    "plt.plot(x2, 'b^')\n",
    "plt.subplot(223)\n",
    "x3 = np.random.rand(10)\n",
    "plt.plot(x3, 'gx')\n",
    "plt.subplot(224)\n",
    "x4 = np.random.rand(10)\n",
    "plt.plot(x4, 'k*')"
   ]
  },
  {
   "cell_type": "markdown",
   "id": "e9a9019d-8f71-4f78-8db1-ab319ae24cdc",
   "metadata": {},
   "source": [
    "## 畫其他的圖表 (散布圖、餅圖、直方圖等)"
   ]
  },
  {
   "cell_type": "code",
   "execution_count": null,
   "id": "d268e11c-7700-46bc-9779-c407d6c3566e",
   "metadata": {},
   "outputs": [],
   "source": [
    "# 請參考：http://matplotlib.org/examples/shapes_and_collections/scatter_demo.html\n",
    "N = 50\n",
    "x = np.random.rand(N)\n",
    "y = np.random.rand(N)\n",
    "colors = np.random.rand(N)\n",
    "area = np.pi * (15 * np.random.rand(N))**2  # 0 to 15 point radii\n",
    "\n",
    "plt.scatter(x, y, s=area, c=colors, alpha=0.5)"
   ]
  },
  {
   "cell_type": "code",
   "execution_count": null,
   "id": "3a77e3c6-fad1-49d5-9ac5-71a5f6bdc1b0",
   "metadata": {},
   "outputs": [],
   "source": [
    "# 請參考：http://matplotlib.org/examples/pie_and_polar_charts/pie_demo_features.html\n",
    "# Pie chart, where the slices will be ordered and plotted counter-clockwise:\n",
    "labels = 'Frogs', 'Hogs', 'Dogs', 'Logs'\n",
    "sizes = [15, 30, 45, 10]\n",
    "explode = (0, 0.1, 0, 0)  # only \"explode\" the 2nd slice (i.e. 'Hogs')\n",
    "\n",
    "fig1, ax1 = plt.subplots()\n",
    "ax1.pie(sizes, explode=explode, labels=labels, autopct='%1.1f%%',\n",
    "        shadow=True, startangle=90)\n",
    "ax1.axis('equal')  # Equal aspect ratio ensures that pie is drawn as a circle."
   ]
  },
  {
   "cell_type": "code",
   "execution_count": null,
   "id": "74c1fac4-783d-4a44-8ac8-c570226ff8f9",
   "metadata": {},
   "outputs": [],
   "source": [
    "# bar chart - 1\n",
    "N = 10\n",
    "y = np.random.randint(1, 10, size=N)\n",
    "x = range(N)\n",
    "width = 0.5\n",
    "plt.bar(x, y, width, color=\"blue\")"
   ]
  },
  {
   "cell_type": "code",
   "execution_count": null,
   "id": "f8df33dc-9bf5-490d-bd74-ef8de30e4339",
   "metadata": {},
   "outputs": [],
   "source": [
    "# bar chart - 2\n",
    "N = 10\n",
    "y = np.random.randint(1, 10, size=N)\n",
    "x = np.arange(N)\n",
    "width = 0.5\n",
    "plt.bar(x - 0.25, y, width, color=\"blue\")\n",
    "plt.xlim(-1, 10)"
   ]
  },
  {
   "cell_type": "code",
   "execution_count": null,
   "id": "04ff22b6-f250-4821-849f-7ef0f7af26db",
   "metadata": {},
   "outputs": [],
   "source": [
    "y"
   ]
  },
  {
   "cell_type": "code",
   "execution_count": null,
   "id": "a5f914ec-5d82-456b-abe6-b115dd261fc0",
   "metadata": {},
   "outputs": [],
   "source": [
    "# histogram\n",
    "x = np.random.randn(1000)\n",
    "n_bins = 10\n",
    "\n",
    "plt.hist(x, n_bins, color='g', rwidth=0.8)"
   ]
  },
  {
   "cell_type": "markdown",
   "id": "c96543f1-750c-4bf1-8505-09d711180969",
   "metadata": {},
   "source": [
    "### 熱區圖\n",
    "ref: https://matplotlib.org/stable/gallery/images_contours_and_fields/image_annotated_heatmap.html"
   ]
  },
  {
   "cell_type": "code",
   "execution_count": null,
   "id": "3b117814-6267-46fe-a0c3-47028891c5dc",
   "metadata": {},
   "outputs": [],
   "source": [
    "matplotlib.__version__"
   ]
  },
  {
   "cell_type": "code",
   "execution_count": null,
   "id": "9ceee6ff-4aab-4e0c-8262-3f02b841cdd7",
   "metadata": {},
   "outputs": [],
   "source": [
    "import numpy as np\n",
    "import matplotlib\n",
    "import matplotlib as mpl\n",
    "import matplotlib.pyplot as plt\n",
    "\n",
    "vegetables = [\"cucumber\", \"tomato\", \"lettuce\", \"asparagus\",\n",
    "              \"potato\", \"wheat\", \"barley\"]\n",
    "farmers = [\"Farmer Joe\", \"Upland Bros.\", \"Smith Gardening\",\n",
    "           \"Agrifun\", \"Organiculture\", \"BioGoods Ltd.\", \"Cornylee Corp.\"]\n",
    "\n",
    "harvest = np.array([[0.8, 2.4, 2.5, 3.9, 0.0, 4.0, 0.0],\n",
    "                    [2.4, 0.0, 4.0, 1.0, 2.7, 0.0, 0.0],\n",
    "                    [1.1, 2.4, 0.8, 4.3, 1.9, 4.4, 0.0],\n",
    "                    [0.6, 0.0, 0.3, 0.0, 3.1, 0.0, 0.0],\n",
    "                    [0.7, 1.7, 0.6, 2.6, 2.2, 6.2, 0.0],\n",
    "                    [1.3, 1.2, 0.0, 0.0, 0.0, 3.2, 5.1],\n",
    "                    [0.1, 2.0, 0.0, 1.4, 0.0, 1.9, 6.3]])\n",
    "\n",
    "\n",
    "fig, ax = plt.subplots()\n",
    "im = ax.imshow(harvest)\n",
    "\n",
    "# Show all ticks and label them with the respective list entries\n",
    "#ax.set_xticks(np.arange(len(farmers)), labels=farmers) #3.5以上\n",
    "ax.set_xticks(np.arange(len(farmers)))\n",
    "ax.set_xticklabels(farmers)\n",
    "\n",
    "#ax.set_yticks(np.arange(len(vegetables)), labels=vegetables) #3.5以上\n",
    "ax.set_yticks(np.arange(len(vegetables)))\n",
    "ax.set_yticklabels(vegetables)\n",
    "\n",
    "# Rotate the tick labels and set their alignment.\n",
    "plt.setp(ax.get_xticklabels(), rotation=45, ha=\"right\",\n",
    "         rotation_mode=\"anchor\")\n",
    "\n",
    "# Loop over data dimensions and create text annotations.\n",
    "for i in range(len(vegetables)):\n",
    "    for j in range(len(farmers)):\n",
    "        text = ax.text(j, i, harvest[i, j],\n",
    "                       ha=\"center\", va=\"center\", color=\"w\")\n",
    "\n",
    "ax.set_title(\"Harvest of local farmers (in tons/year)\")\n",
    "fig.tight_layout()\n",
    "plt.show()"
   ]
  },
  {
   "cell_type": "code",
   "execution_count": null,
   "id": "09b042e1-7545-48dc-94be-5681f4d3ee37",
   "metadata": {},
   "outputs": [],
   "source": []
  }
 ],
 "metadata": {
  "kernelspec": {
   "display_name": "Python 3 (ipykernel)",
   "language": "python",
   "name": "python3"
  },
  "language_info": {
   "codemirror_mode": {
    "name": "ipython",
    "version": 3
   },
   "file_extension": ".py",
   "mimetype": "text/x-python",
   "name": "python",
   "nbconvert_exporter": "python",
   "pygments_lexer": "ipython3",
   "version": "3.9.12"
  }
 },
 "nbformat": 4,
 "nbformat_minor": 5
}
