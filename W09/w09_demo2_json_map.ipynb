{
 "cells": [
  {
   "cell_type": "markdown",
   "metadata": {},
   "source": [
    "# JSON資料型態"
   ]
  },
  {
   "cell_type": "markdown",
   "metadata": {},
   "source": [
    "### 看看wiki怎麼說\n",
    "\n",
    "- https://zh.wikipedia.org/zh-tw/JSON\n",
    "\n",
    "```\n",
    "{\"time\":\"2020-07-01\", \"data\": [1, 2, 3, 4, 5]}\n",
    "```"
   ]
  },
  {
   "cell_type": "markdown",
   "metadata": {},
   "source": [
    "### 空氣品質應用\n",
    "- 資料來源：https://data.gov.tw/dataset/40448\n",
    "\n",
    "\n",
    "### JSON格式初探\n",
    "- https://zh.wikipedia.org/zh-tw/JSON"
   ]
  },
  {
   "cell_type": "code",
   "execution_count": null,
   "metadata": {},
   "outputs": [],
   "source": [
    "import requests"
   ]
  },
  {
   "cell_type": "code",
   "execution_count": null,
   "metadata": {},
   "outputs": [],
   "source": [
    "#url = 'http://opendata.epa.gov.tw/ws/Data/AQI/?$format=json' # 已失效\n",
    "url = 'https://data.moenv.gov.tw/api/v2/aqx_p_432?api_key=e8dd42e6-9b8b-43f8-991e-b3dee723a52d&limit=1000&sort=ImportDate%20desc&format=JSON'"
   ]
  },
  {
   "cell_type": "code",
   "execution_count": null,
   "metadata": {},
   "outputs": [],
   "source": [
    "r = requests.get(url)"
   ]
  },
  {
   "cell_type": "code",
   "execution_count": null,
   "metadata": {},
   "outputs": [],
   "source": [
    "r"
   ]
  },
  {
   "cell_type": "code",
   "execution_count": null,
   "metadata": {},
   "outputs": [],
   "source": [
    "data = r.json()"
   ]
  },
  {
   "cell_type": "code",
   "execution_count": null,
   "metadata": {
    "tags": []
   },
   "outputs": [],
   "source": [
    "data['records']"
   ]
  },
  {
   "cell_type": "code",
   "execution_count": null,
   "metadata": {},
   "outputs": [],
   "source": [
    "records = data['records']"
   ]
  },
  {
   "cell_type": "code",
   "execution_count": null,
   "metadata": {},
   "outputs": [],
   "source": [
    "for item in records:\n",
    "    if item['county']=='臺南市':\n",
    "        print(item['county'], item['sitename'], item['pm2.5'])"
   ]
  },
  {
   "cell_type": "markdown",
   "metadata": {},
   "source": [
    "- 小試身手: 把高雄站點的AQI, 硫化物, 還有GPS座標印出來"
   ]
  },
  {
   "cell_type": "code",
   "execution_count": null,
   "metadata": {},
   "outputs": [],
   "source": [
    "# 把程式填入這邊\n",
    "for item in records:\n",
    "    if item['county']=='臺南市':\n",
    "        print(item['county'], item['sitename'], item['pm2.5'], item['latitude'], item['longitude'])\n"
   ]
  },
  {
   "cell_type": "markdown",
   "metadata": {},
   "source": [
    "### 進一步找出 全台有超標的站，並列出來\n",
    "- AQI 是否超標，請參照以下的資訊\n",
    "- ref: https://airtw.epa.gov.tw/CHT/Information/Standard/AirQualityIndicator.aspx"
   ]
  },
  {
   "cell_type": "code",
   "execution_count": null,
   "metadata": {},
   "outputs": [],
   "source": [
    "for item in records:\n",
    "    aqi = float(records[0]['aqi'])\n"
   ]
  },
  {
   "cell_type": "code",
   "execution_count": null,
   "metadata": {},
   "outputs": [],
   "source": [
    "# 把程式填入這邊\n",
    "for item in records:\n",
    "    aqi = float(item['aqi'])\n",
    "    if aqi>50:\n",
    "        print(item['county'], item['sitename'], item['aqi'], item['latitude'], item['longitude'])\n"
   ]
  },
  {
   "cell_type": "markdown",
   "metadata": {},
   "source": [
    "### 在地圖上把所有的站畫出來"
   ]
  },
  {
   "cell_type": "code",
   "execution_count": null,
   "metadata": {},
   "outputs": [],
   "source": [
    "# 在colab用底下的安裝指令\n",
    "!pip install geopy"
   ]
  },
  {
   "cell_type": "code",
   "execution_count": null,
   "metadata": {},
   "outputs": [],
   "source": [
    "#引入相關套件，並建立取得GPS座標的function\n",
    "import folium\n",
    "import geopy\n",
    "from geopy.geocoders import Nominatim\n",
    "\n",
    "def get_gps_coordinates(location_name):\n",
    "    \"\"\"\n",
    "    取得指定地名的 GPS 座標。\n",
    "\n",
    "    Args:\n",
    "        location_name (str): 地名。\n",
    "\n",
    "    Returns:\n",
    "        tuple: (緯度, 經度)，如果找不到則返回 None。\n",
    "    \"\"\"\n",
    "    try:\n",
    "        geolocator = Nominatim(user_agent=\"my_geocoder\")\n",
    "        location = geolocator.geocode(location_name)\n",
    "        if location:\n",
    "            return location.latitude, location.longitude\n",
    "        else:\n",
    "            return None\n",
    "    except Exception as e:\n",
    "        print(f\"發生錯誤：{e}\")\n",
    "        return None\n"
   ]
  },
  {
   "cell_type": "code",
   "execution_count": null,
   "metadata": {},
   "outputs": [],
   "source": [
    "# 把程式填入這邊\n",
    "\n",
    "# 使用 geocoder 取得特定住址的 GPS 座標\n",
    "location = get_gps_coordinates('台灣')\n",
    "print(location)\n",
    "\n",
    "\n",
    "m = folium.Map(location=location, zoom_start=10)\n",
    "\n",
    "for item in records:\n",
    "    try:\n",
    "        name = item['sitename']  #站名\n",
    "        lat = item['latitude']  #緯度\n",
    "        lng = item['longitude']  #經度\n",
    "        aqi = int(item['aqi'])\n",
    "        info = '[%s] %s' %(name, aqi)\n",
    "        folium.Marker([ float(lat), float(lng)],\n",
    "                      tooltip=info,\n",
    "                     icon=folium.Icon(color='blue')\n",
    "                     ).add_to(m)\n",
    "        \n",
    "    except Exception as e:\n",
    "        print(e.args)    "
   ]
  },
  {
   "cell_type": "code",
   "execution_count": null,
   "metadata": {},
   "outputs": [],
   "source": [
    "m"
   ]
  },
  {
   "cell_type": "markdown",
   "metadata": {},
   "source": [
    "### 畫出地圖，並且把超標的畫紅色、沒超標的畫綠色"
   ]
  },
  {
   "cell_type": "code",
   "execution_count": null,
   "metadata": {},
   "outputs": [],
   "source": []
  },
  {
   "cell_type": "markdown",
   "metadata": {},
   "source": [
    "### 把成果下載下來欣賞"
   ]
  },
  {
   "cell_type": "code",
   "execution_count": null,
   "metadata": {},
   "outputs": [],
   "source": [
    "# 寫下你的程式\n",
    "m.save('TW-air.html')"
   ]
  }
 ],
 "metadata": {
  "kernelspec": {
   "display_name": "Python 3 (ipykernel)",
   "language": "python",
   "name": "python3"
  },
  "language_info": {
   "codemirror_mode": {
    "name": "ipython",
    "version": 3
   },
   "file_extension": ".py",
   "mimetype": "text/x-python",
   "name": "python",
   "nbconvert_exporter": "python",
   "pygments_lexer": "ipython3",
   "version": "3.9.12"
  }
 },
 "nbformat": 4,
 "nbformat_minor": 4
}
